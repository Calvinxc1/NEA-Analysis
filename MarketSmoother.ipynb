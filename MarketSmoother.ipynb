{
 "cells": [
  {
   "cell_type": "code",
   "execution_count": 52,
   "metadata": {},
   "outputs": [],
   "source": [
    "from datetime import datetime as dt, date, timedelta as td\n",
    "import numpy as np\n",
    "import pandas as pd\n",
    "from scipy.special import factorial as fact\n",
    "from sqlalchemy import create_engine\n",
    "from sqlalchemy.orm import sessionmaker\n",
    "from tqdm.notebook import tqdm, trange\n",
    "import torch as pt\n",
    "import matplotlib.pyplot as plt\n",
    "import seaborn as sns\n",
    "from time import sleep\n",
    "from scipy import stats\n",
    "\n",
    "from config.config import sql_params\n",
    "from nea_schema.esi.mkt import MarketHist\n",
    "from nea_schema.sde.map import Region\n",
    "from nea_schema.sde.inv import Name, Type\n",
    "from nea_schema.sde.bp import Blueprint, Activity, Material, Product\n",
    "from tools import pull_bp_data, load_market_hist, build_material_matrix\n",
    "from state_smoother import Smoother\n",
    "\n",
    "sns.set()\n",
    "pd.set_option('display.float_format', lambda x: '%.2f' % x)\n",
    "pd.set_option('display.max_rows', 500)\n",
    "pd.set_option('display.max_columns', 500)\n",
    "pd.set_option('display.width', 1000)"
   ]
  },
  {
   "cell_type": "code",
   "execution_count": 2,
   "metadata": {},
   "outputs": [],
   "source": [
    "avail_bps, bp_data, activity_data, material_data, product_data, invent_mats_data, invent_prod_data, invented_product_data = pull_bp_data(sql_params)\n",
    "\n",
    "invent_material_matrix, invent_material_names, invent_product_names = build_material_matrix(\n",
    "    invent_mats_data,\n",
    "    invent_prod_data,\n",
    "    pd.Series(0, index=invent_prod_data['blueprint_id'])\n",
    ")\n",
    "invent_material_matrix.index = invent_material_matrix.index.map(invented_product_data.set_index('blueprint_id')['type_id'])\n",
    "\n",
    "full_prod_data = pd.concat([product_data, invented_product_data], axis=0).drop_duplicates()\n",
    "mat_eff_mapping = full_prod_data[['blueprint_id']].set_index('blueprint_id').join(avail_bps['mat_eff'])['mat_eff']\n",
    "mat_eff_mapping[invented_product_data['blueprint_id']] = 2\n",
    "if np.any(pd.isnull(mat_eff_mapping)):\n",
    "    raise Exception(\"Not all blueprint_id's are being covered by mat_eff_mapping\")\n",
    "\n",
    "material_matrix, material_names, product_names = build_material_matrix(\n",
    "    material_data,\n",
    "    full_prod_data,\n",
    "    mat_eff_mapping,\n",
    "    addit_matrix=invent_material_matrix\n",
    ")\n",
    "\n",
    "full_material_names = pd.concat([material_names, invent_material_names], axis=0).drop_duplicates()\n",
    "full_product_names = pd.concat([product_names, invent_product_names], axis=0).drop_duplicates()"
   ]
  },
  {
   "cell_type": "code",
   "execution_count": 4,
   "metadata": {},
   "outputs": [],
   "source": [
    "types = sorted([\n",
    "    *[int(val) for val in material_matrix.index],\n",
    "    *[int(val) for val in material_matrix.columns],\n",
    "])\n",
    "\n",
    "regions = sorted([\n",
    "    10000068, 10000064, 10000032, 10000037\n",
    "])"
   ]
  },
  {
   "cell_type": "code",
   "execution_count": 5,
   "metadata": {},
   "outputs": [],
   "source": [
    "market_data = load_market_hist(types, regions, date(2019,5,1), date(2020,4,30), sql_params)"
   ]
  },
  {
   "cell_type": "code",
   "execution_count": 6,
   "metadata": {},
   "outputs": [
    {
     "data": {
      "application/vnd.jupyter.widget-view+json": {
       "model_id": "",
       "version_major": 2,
       "version_minor": 0
      },
      "text/plain": [
       "HBox(children=(FloatProgress(value=0.0, max=1000.0), HTML(value='')))"
      ]
     },
     "metadata": {},
     "output_type": "display_data"
    },
    {
     "data": {
      "application/vnd.jupyter.widget-view+json": {
       "model_id": "",
       "version_major": 2,
       "version_minor": 0
      },
      "text/plain": [
       "HBox(children=(FloatProgress(value=0.0, max=1000.0), HTML(value='')))"
      ]
     },
     "metadata": {},
     "output_type": "display_data"
    },
    {
     "data": {
      "application/vnd.jupyter.widget-view+json": {
       "model_id": "",
       "version_major": 2,
       "version_minor": 0
      },
      "text/plain": [
       "HBox(children=(FloatProgress(value=0.0, max=1000.0), HTML(value='')))"
      ]
     },
     "metadata": {},
     "output_type": "display_data"
    },
    {
     "data": {
      "application/vnd.jupyter.widget-view+json": {
       "model_id": "",
       "version_major": 2,
       "version_minor": 0
      },
      "text/plain": [
       "HBox(children=(FloatProgress(value=0.0, max=1000.0), HTML(value='')))"
      ]
     },
     "metadata": {},
     "output_type": "display_data"
    },
    {
     "data": {
      "application/vnd.jupyter.widget-view+json": {
       "model_id": "",
       "version_major": 2,
       "version_minor": 0
      },
      "text/plain": [
       "HBox(children=(FloatProgress(value=0.0, max=1000.0), HTML(value='')))"
      ]
     },
     "metadata": {},
     "output_type": "display_data"
    },
    {
     "data": {
      "application/vnd.jupyter.widget-view+json": {
       "model_id": "",
       "version_major": 2,
       "version_minor": 0
      },
      "text/plain": [
       "HBox(children=(FloatProgress(value=0.0, max=1000.0), HTML(value='')))"
      ]
     },
     "metadata": {},
     "output_type": "display_data"
    },
    {
     "data": {
      "application/vnd.jupyter.widget-view+json": {
       "model_id": "",
       "version_major": 2,
       "version_minor": 0
      },
      "text/plain": [
       "HBox(children=(FloatProgress(value=0.0, max=1000.0), HTML(value='')))"
      ]
     },
     "metadata": {},
     "output_type": "display_data"
    },
    {
     "data": {
      "application/vnd.jupyter.widget-view+json": {
       "model_id": "",
       "version_major": 2,
       "version_minor": 0
      },
      "text/plain": [
       "HBox(children=(FloatProgress(value=0.0, max=1000.0), HTML(value='')))"
      ]
     },
     "metadata": {},
     "output_type": "display_data"
    }
   ],
   "source": [
    "smooth_markets = {\n",
    "    region_id: {\n",
    "        point: Smoother(\n",
    "            np.log(data), dims=4,\n",
    "            horizon=14 if point == 'average' else 28,\n",
    "            verbose=False, tqdm_leave=False,\n",
    "        ) for point, data in val.items()\n",
    "    } for region_id, val in market_data.items()\n",
    "}\n",
    "\n",
    "for val in smooth_markets.values():\n",
    "    for sub_val in val.values():\n",
    "        sub_val.verbose = True\n",
    "        sub_val.learn(1000, learn_rate=1e-1)"
   ]
  },
  {
   "cell_type": "code",
   "execution_count": 48,
   "metadata": {},
   "outputs": [],
   "source": [
    "region_profits = {}\n",
    "for region_id, val in smooth_markets.items():\n",
    "    smooth_vol = np.exp(pd.Series(val['volume'].state[-1,:,0].detach().cpu().numpy(), index=val['volume'].columns))\n",
    "    smooth_avg = np.exp(pd.Series(val['average'].state[-1,:,0].detach().cpu().numpy(), index=val['average'].columns))\n",
    "    \n",
    "    type_cost = (material_matrix * smooth_avg.reindex(index=material_matrix.columns).values[np.newaxis,:]).sum(axis=1)\n",
    "    type_price = smooth_avg.reindex(index=type_cost.index)\n",
    "    type_profit = type_price - type_cost\n",
    "    type_vol = smooth_vol.reindex(index=type_profit.index)\n",
    "    type_revenue = type_profit * type_vol\n",
    "    region_profits[region_id] = {\n",
    "        'cost': type_cost,\n",
    "        'price': type_price,\n",
    "        'profit': type_profit,\n",
    "        'vol': type_vol,\n",
    "        'revenue': type_revenue,\n",
    "    }"
   ]
  },
  {
   "cell_type": "code",
   "execution_count": 104,
   "metadata": {},
   "outputs": [
    {
     "data": {
      "text/plain": [
       "10000032   -159941676312.87\n",
       "10000064    -32629986333.25\n",
       "10000068    -22370546936.50\n",
       "10000037      -736960972.81\n",
       "dtype: float64"
      ]
     },
     "execution_count": 104,
     "metadata": {},
     "output_type": "execute_result"
    }
   ],
   "source": [
    "revenues = pd.concat([region['revenue'].rename(region_id) for region_id, region in region_profits.items()], axis=1).T\n",
    "revenues.sum(axis=1).sort_values()"
   ]
  },
  {
   "cell_type": "code",
   "execution_count": 102,
   "metadata": {},
   "outputs": [
    {
     "data": {
      "text/plain": [
       "10000064    2996\n",
       "10000032    3126\n",
       "10000037    3276\n",
       "10000068    3372\n",
       "dtype: int64"
      ]
     },
     "execution_count": 102,
     "metadata": {},
     "output_type": "execute_result"
    }
   ],
   "source": [
    "ranked_revenues = revenues.apply(lambda x: stats.rankdata(x)).astype(int)\n",
    "ranked_revenues.sum(axis=1).sort_values()"
   ]
  },
  {
   "cell_type": "code",
   "execution_count": 100,
   "metadata": {},
   "outputs": [],
   "source": [
    "revenues_pos_only = {}\n",
    "for type_id, data in revenues.to_dict().items():\n",
    "    for region_id, value in data.items():\n",
    "        if value > 0:\n",
    "            revenues_pos_only[type_id] = revenues_pos_only.get(type_id, {})\n",
    "            revenues_pos_only[type_id][region_id] = value"
   ]
  },
  {
   "cell_type": "code",
   "execution_count": 107,
   "metadata": {},
   "outputs": [
    {
     "data": {
      "text/plain": [
       "10000064    6275656584.35\n",
       "10000032   13810523896.93\n",
       "10000068   14830645395.01\n",
       "10000037   24662917357.58\n",
       "dtype: float64"
      ]
     },
     "execution_count": 107,
     "metadata": {},
     "output_type": "execute_result"
    }
   ],
   "source": [
    "pd.DataFrame(revenues_pos_only).sum(axis=1).sort_values()"
   ]
  },
  {
   "cell_type": "code",
   "execution_count": 101,
   "metadata": {},
   "outputs": [
    {
     "data": {
      "text/plain": [
       "10000037    1788\n",
       "10000064    1863\n",
       "10000068    1971\n",
       "10000032    2248\n",
       "dtype: int64"
      ]
     },
     "execution_count": 101,
     "metadata": {},
     "output_type": "execute_result"
    }
   ],
   "source": [
    "ranked_revenues_pos_only = pd.Series(0, index=revenues.index)\n",
    "for type_id, data in revenues_pos_only.items():\n",
    "    data = pd.Series(data)\n",
    "    data[:] = stats.rankdata(data)\n",
    "    ranked_revenues_pos_only[data.index] += data\n",
    "ranked_revenues_pos_only.astype(int).sort_values()"
   ]
  }
 ],
 "metadata": {
  "kernelspec": {
   "display_name": "Python [conda env:dev]",
   "language": "python",
   "name": "conda-env-dev-py"
  },
  "language_info": {
   "codemirror_mode": {
    "name": "ipython",
    "version": 3
   },
   "file_extension": ".py",
   "mimetype": "text/x-python",
   "name": "python",
   "nbconvert_exporter": "python",
   "pygments_lexer": "ipython3",
   "version": "3.7.7"
  }
 },
 "nbformat": 4,
 "nbformat_minor": 4
}
